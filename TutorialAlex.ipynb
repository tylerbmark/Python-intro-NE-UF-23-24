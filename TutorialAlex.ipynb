{
 "cells": [
  {
   "cell_type": "code",
   "execution_count": 6,
   "id": "bcb7f3c0",
   "metadata": {},
   "outputs": [
    {
     "ename": "SyntaxError",
     "evalue": "unterminated string literal (detected at line 2) (2873952639.py, line 2)",
     "output_type": "error",
     "traceback": [
      "\u001b[1;36m  Cell \u001b[1;32mIn[6], line 2\u001b[1;36m\u001b[0m\n\u001b[1;33m    return 'Welcome to the ANS Python tutorial!\\n in this tutorial, we will describe the basics of python\\n\u001b[0m\n\u001b[1;37m           ^\u001b[0m\n\u001b[1;31mSyntaxError\u001b[0m\u001b[1;31m:\u001b[0m unterminated string literal (detected at line 2)\n"
     ]
    }
   ],
   "source": [
    "\n",
    "\n",
    "def welcome(title):\n",
    "    print(title)\n",
    "def Printtitle():\n",
    "    title = \"Hello, welcome to the ANS Python tutorial, \\nin this Jupyter notebook we'll go through some \\nbasic python methodology as well as provide you with\\na repository of information for you to get started on your own!\"\n",
    "    welcome(title)"
   ]
  },
  {
   "cell_type": "code",
   "execution_count": 7,
   "id": "534c5755",
   "metadata": {},
   "outputs": [
    {
     "ename": "NameError",
     "evalue": "name 'welcome' is not defined",
     "output_type": "error",
     "traceback": [
      "\u001b[1;31m---------------------------------------------------------------------------\u001b[0m",
      "\u001b[1;31mNameError\u001b[0m                                 Traceback (most recent call last)",
      "Cell \u001b[1;32mIn[7], line 3\u001b[0m\n\u001b[0;32m      1\u001b[0m \u001b[38;5;28;01mdef\u001b[39;00m \u001b[38;5;21mmain\u001b[39m():\n\u001b[0;32m      2\u001b[0m     \u001b[38;5;28mprint\u001b[39m(\u001b[38;5;124mf\u001b[39m\u001b[38;5;124m\"\u001b[39m\u001b[38;5;132;01m{\u001b[39;00mwelcome()\u001b[38;5;132;01m}\u001b[39;00m\u001b[38;5;124m\"\u001b[39m)\n\u001b[1;32m----> 3\u001b[0m \u001b[43mmain\u001b[49m\u001b[43m(\u001b[49m\u001b[43m)\u001b[49m\n",
      "Cell \u001b[1;32mIn[7], line 2\u001b[0m, in \u001b[0;36mmain\u001b[1;34m()\u001b[0m\n\u001b[0;32m      1\u001b[0m \u001b[38;5;28;01mdef\u001b[39;00m \u001b[38;5;21mmain\u001b[39m():\n\u001b[1;32m----> 2\u001b[0m     \u001b[38;5;28mprint\u001b[39m(\u001b[38;5;124mf\u001b[39m\u001b[38;5;124m\"\u001b[39m\u001b[38;5;132;01m{\u001b[39;00mwelcome()\u001b[38;5;132;01m}\u001b[39;00m\u001b[38;5;124m\"\u001b[39m)\n",
      "\u001b[1;31mNameError\u001b[0m: name 'welcome' is not defined"
     ]
    }
   ],
   "source": [
    "'''functions that can be used within the program to our benefit'''\n",
    "def add(x: float,y: float)-> float:\n",
    "    '''takes x and adds it to y'''\n",
    "    return x + y\n",
    "\n",
    "def subtract(x: float,y: float)-> float:\n",
    "    '''takes x and subtracts it by y'''\n",
    "    return x-y\n",
    "\n",
    "def divide(x: float,y: float)-> float:\n",
    "    '''takes x and divides it by y'''\n",
    "    return x/y\n",
    "\n",
    "def multiply(x: float,y: float)-> float:\n",
    "    '''Multiplies x by y'''\n",
    "    return x*y\n",
    "\n",
    "\n",
    "def expo(x:float,y:float)-> float:\n",
    "    '''raises x to the yth power'''\n",
    "    return x**y\n",
    "\n",
    "'''This portion of the module is for data analysis'''\n",
    "def mean(*args: list) -> float:\n",
    "    '''to find the mean of a list of variables'''\n",
    "    for i in args:\n",
    "        total +=i\n",
    "    return total/len(args)\n",
    "\n",
    "def sdev(*args: list) -> float:\n",
    "    for i in args:\n",
    "        total += (i - mean(args))**2\n",
    "    return (total/(len(args)-1))**0.5\n"
   ]
  },
  {
   "cell_type": "code",
   "execution_count": 8,
   "id": "5e54b41e",
   "metadata": {},
   "outputs": [
    {
     "ename": "ModuleNotFoundError",
     "evalue": "No module named 'matplotlib.pylot'",
     "output_type": "error",
     "traceback": [
      "\u001b[1;31m---------------------------------------------------------------------------\u001b[0m",
      "\u001b[1;31mModuleNotFoundError\u001b[0m                       Traceback (most recent call last)",
      "Cell \u001b[1;32mIn[8], line 2\u001b[0m\n\u001b[0;32m      1\u001b[0m \u001b[38;5;124;03m'''This is an example of how you can use a python module to suitably replace matlab'''\u001b[39;00m\n\u001b[1;32m----> 2\u001b[0m \u001b[38;5;28;01mimport\u001b[39;00m \u001b[38;5;21;01mmatplotlib\u001b[39;00m\u001b[38;5;21;01m.\u001b[39;00m\u001b[38;5;21;01mpylot\u001b[39;00m \u001b[38;5;28;01mas\u001b[39;00m \u001b[38;5;21;01mplt\u001b[39;00m\n\u001b[0;32m      3\u001b[0m \u001b[38;5;28;01mdef\u001b[39;00m \u001b[38;5;21msimpleplot\u001b[39m():\n\u001b[0;32m      4\u001b[0m     fig, ax \u001b[38;5;241m=\u001b[39m plt\u001b[38;5;241m.\u001b[39msubplots()\n",
      "\u001b[1;31mModuleNotFoundError\u001b[0m: No module named 'matplotlib.pylot'"
     ]
    }
   ],
   "source": [
    "'''This is an example of how you can use a python module to suitably replace matlab'''\n",
    "import matplotlib.pyplot as plt\n",
    "def simpleplot():\n",
    "    fig, ax = plt.subplots()\n",
    "\n",
    "    fruits = ['apple', 'blueberry', 'cherry', 'orange']\n",
    "    counts = [40, 100, 30, 55]\n",
    "    bar_labels = ['red', 'blue', '_red', 'orange']\n",
    "    bar_colors = ['tab:red', 'tab:blue', 'tab:red', 'tab:orange']\n",
    "\n",
    "    ax.bar(fruits, counts, label=bar_labels, color=bar_colors)\n",
    "\n",
    "    ax.set_ylabel('fruit supply')\n",
    "    ax.set_title('Fruit supply by kind and color')\n",
    "    ax.legend(title='Fruit color')\n",
    "\n",
    "    plt.show()\n",
    "\n",
    "simpleplot()\n"
   ]
  },
  {
   "cell_type": "code",
   "execution_count": null,
   "id": "a991b083",
   "metadata": {},
   "outputs": [],
   "source": []
  },
  {
   "cell_type": "markdown",
   "id": "37dfff6c",
   "metadata": {},
   "source": [
    "This is an example of the matplotlib module and how it functions as a plotting mechanism, I have\n",
    "provided the index of all the possible modules\n",
    "\n",
    "![Plot from Matplotlib: ](Figure_1.png)\n",
    "\n",
    "\n",
    "https://matplotlib.org/stable/index.html"
   ]
  },
  {
   "cell_type": "code",
   "execution_count": null,
   "id": "8471321e",
   "metadata": {},
   "outputs": [],
   "source": []
  }
 ],
 "metadata": {
  "kernelspec": {
   "display_name": "Python 3 (ipykernel)",
   "language": "python",
   "name": "python3"
  },
  "language_info": {
   "codemirror_mode": {
    "name": "ipython",
    "version": 3
   },
   "file_extension": ".py",
   "mimetype": "text/x-python",
   "name": "python",
   "nbconvert_exporter": "python",
   "pygments_lexer": "ipython3",
   "version": "3.10.11"
  }
 },
 "nbformat": 4,
 "nbformat_minor": 5
}
